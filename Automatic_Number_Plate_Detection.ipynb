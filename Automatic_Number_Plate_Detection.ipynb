{
  "nbformat": 4,
  "nbformat_minor": 0,
  "metadata": {
    "colab": {
      "provenance": [],
      "authorship_tag": "ABX9TyOhMCmci0YBCBjRJFtNIwYd",
      "include_colab_link": true
    },
    "kernelspec": {
      "name": "python3",
      "display_name": "Python 3"
    },
    "language_info": {
      "name": "python"
    }
  },
  "cells": [
    {
      "cell_type": "markdown",
      "metadata": {
        "id": "view-in-github",
        "colab_type": "text"
      },
      "source": [
        "<a href=\"https://colab.research.google.com/github/KashishOswal9/Automatic-License-plate-detection/blob/main/Automatic_Number_Plate_Detection.ipynb\" target=\"_parent\"><img src=\"https://colab.research.google.com/assets/colab-badge.svg\" alt=\"Open In Colab\"/></a>"
      ]
    },
    {
      "cell_type": "code",
      "execution_count": 3,
      "metadata": {
        "colab": {
          "base_uri": "https://localhost:8080/"
        },
        "id": "mra52uketuMy",
        "outputId": "0c626e78-0d75-43b7-df02-cbb35df024f9"
      },
      "outputs": [
        {
          "output_type": "stream",
          "name": "stdout",
          "text": [
            "Requirement already satisfied: easyocr in /usr/local/lib/python3.11/dist-packages (1.7.2)\n",
            "Requirement already satisfied: imutils in /usr/local/lib/python3.11/dist-packages (0.5.4)\n",
            "Requirement already satisfied: opencv-python in /usr/local/lib/python3.11/dist-packages (4.11.0.86)\n",
            "Requirement already satisfied: matplotlib in /usr/local/lib/python3.11/dist-packages (3.10.0)\n",
            "Requirement already satisfied: torch in /usr/local/lib/python3.11/dist-packages (from easyocr) (2.6.0+cu124)\n",
            "Requirement already satisfied: torchvision>=0.5 in /usr/local/lib/python3.11/dist-packages (from easyocr) (0.21.0+cu124)\n",
            "Requirement already satisfied: opencv-python-headless in /usr/local/lib/python3.11/dist-packages (from easyocr) (4.11.0.86)\n",
            "Requirement already satisfied: scipy in /usr/local/lib/python3.11/dist-packages (from easyocr) (1.15.3)\n",
            "Requirement already satisfied: numpy in /usr/local/lib/python3.11/dist-packages (from easyocr) (2.0.2)\n",
            "Requirement already satisfied: Pillow in /usr/local/lib/python3.11/dist-packages (from easyocr) (11.2.1)\n",
            "Requirement already satisfied: scikit-image in /usr/local/lib/python3.11/dist-packages (from easyocr) (0.25.2)\n",
            "Requirement already satisfied: python-bidi in /usr/local/lib/python3.11/dist-packages (from easyocr) (0.6.6)\n",
            "Requirement already satisfied: PyYAML in /usr/local/lib/python3.11/dist-packages (from easyocr) (6.0.2)\n",
            "Requirement already satisfied: Shapely in /usr/local/lib/python3.11/dist-packages (from easyocr) (2.1.1)\n",
            "Requirement already satisfied: pyclipper in /usr/local/lib/python3.11/dist-packages (from easyocr) (1.3.0.post6)\n",
            "Requirement already satisfied: ninja in /usr/local/lib/python3.11/dist-packages (from easyocr) (1.11.1.4)\n",
            "Requirement already satisfied: contourpy>=1.0.1 in /usr/local/lib/python3.11/dist-packages (from matplotlib) (1.3.2)\n",
            "Requirement already satisfied: cycler>=0.10 in /usr/local/lib/python3.11/dist-packages (from matplotlib) (0.12.1)\n",
            "Requirement already satisfied: fonttools>=4.22.0 in /usr/local/lib/python3.11/dist-packages (from matplotlib) (4.58.1)\n",
            "Requirement already satisfied: kiwisolver>=1.3.1 in /usr/local/lib/python3.11/dist-packages (from matplotlib) (1.4.8)\n",
            "Requirement already satisfied: packaging>=20.0 in /usr/local/lib/python3.11/dist-packages (from matplotlib) (24.2)\n",
            "Requirement already satisfied: pyparsing>=2.3.1 in /usr/local/lib/python3.11/dist-packages (from matplotlib) (3.2.3)\n",
            "Requirement already satisfied: python-dateutil>=2.7 in /usr/local/lib/python3.11/dist-packages (from matplotlib) (2.9.0.post0)\n",
            "Requirement already satisfied: six>=1.5 in /usr/local/lib/python3.11/dist-packages (from python-dateutil>=2.7->matplotlib) (1.17.0)\n",
            "Requirement already satisfied: filelock in /usr/local/lib/python3.11/dist-packages (from torch->easyocr) (3.18.0)\n",
            "Requirement already satisfied: typing-extensions>=4.10.0 in /usr/local/lib/python3.11/dist-packages (from torch->easyocr) (4.13.2)\n",
            "Requirement already satisfied: networkx in /usr/local/lib/python3.11/dist-packages (from torch->easyocr) (3.5)\n",
            "Requirement already satisfied: jinja2 in /usr/local/lib/python3.11/dist-packages (from torch->easyocr) (3.1.6)\n",
            "Requirement already satisfied: fsspec in /usr/local/lib/python3.11/dist-packages (from torch->easyocr) (2025.3.2)\n",
            "Requirement already satisfied: nvidia-cuda-nvrtc-cu12==12.4.127 in /usr/local/lib/python3.11/dist-packages (from torch->easyocr) (12.4.127)\n",
            "Requirement already satisfied: nvidia-cuda-runtime-cu12==12.4.127 in /usr/local/lib/python3.11/dist-packages (from torch->easyocr) (12.4.127)\n",
            "Requirement already satisfied: nvidia-cuda-cupti-cu12==12.4.127 in /usr/local/lib/python3.11/dist-packages (from torch->easyocr) (12.4.127)\n",
            "Requirement already satisfied: nvidia-cudnn-cu12==9.1.0.70 in /usr/local/lib/python3.11/dist-packages (from torch->easyocr) (9.1.0.70)\n",
            "Requirement already satisfied: nvidia-cublas-cu12==12.4.5.8 in /usr/local/lib/python3.11/dist-packages (from torch->easyocr) (12.4.5.8)\n",
            "Requirement already satisfied: nvidia-cufft-cu12==11.2.1.3 in /usr/local/lib/python3.11/dist-packages (from torch->easyocr) (11.2.1.3)\n",
            "Requirement already satisfied: nvidia-curand-cu12==10.3.5.147 in /usr/local/lib/python3.11/dist-packages (from torch->easyocr) (10.3.5.147)\n",
            "Requirement already satisfied: nvidia-cusolver-cu12==11.6.1.9 in /usr/local/lib/python3.11/dist-packages (from torch->easyocr) (11.6.1.9)\n",
            "Requirement already satisfied: nvidia-cusparse-cu12==12.3.1.170 in /usr/local/lib/python3.11/dist-packages (from torch->easyocr) (12.3.1.170)\n",
            "Requirement already satisfied: nvidia-cusparselt-cu12==0.6.2 in /usr/local/lib/python3.11/dist-packages (from torch->easyocr) (0.6.2)\n",
            "Requirement already satisfied: nvidia-nccl-cu12==2.21.5 in /usr/local/lib/python3.11/dist-packages (from torch->easyocr) (2.21.5)\n",
            "Requirement already satisfied: nvidia-nvtx-cu12==12.4.127 in /usr/local/lib/python3.11/dist-packages (from torch->easyocr) (12.4.127)\n",
            "Requirement already satisfied: nvidia-nvjitlink-cu12==12.4.127 in /usr/local/lib/python3.11/dist-packages (from torch->easyocr) (12.4.127)\n",
            "Requirement already satisfied: triton==3.2.0 in /usr/local/lib/python3.11/dist-packages (from torch->easyocr) (3.2.0)\n",
            "Requirement already satisfied: sympy==1.13.1 in /usr/local/lib/python3.11/dist-packages (from torch->easyocr) (1.13.1)\n",
            "Requirement already satisfied: mpmath<1.4,>=1.1.0 in /usr/local/lib/python3.11/dist-packages (from sympy==1.13.1->torch->easyocr) (1.3.0)\n",
            "Requirement already satisfied: imageio!=2.35.0,>=2.33 in /usr/local/lib/python3.11/dist-packages (from scikit-image->easyocr) (2.37.0)\n",
            "Requirement already satisfied: tifffile>=2022.8.12 in /usr/local/lib/python3.11/dist-packages (from scikit-image->easyocr) (2025.5.26)\n",
            "Requirement already satisfied: lazy-loader>=0.4 in /usr/local/lib/python3.11/dist-packages (from scikit-image->easyocr) (0.4)\n",
            "Requirement already satisfied: MarkupSafe>=2.0 in /usr/local/lib/python3.11/dist-packages (from jinja2->torch->easyocr) (3.0.2)\n"
          ]
        }
      ],
      "source": [
        "!pip install easyocr imutils opencv-python matplotlib\n"
      ]
    },
    {
      "cell_type": "code",
      "source": [
        "import cv2\n",
        "import numpy as np\n",
        "import matplotlib.pyplot as plt\n",
        "import easyocr\n",
        "import imutils\n",
        "from google.colab.patches import cv2_imshow  # Use this instead of cv2.imshow\n",
        "from google.colab import files"
      ],
      "metadata": {
        "id": "wUJvq5om0KQu"
      },
      "execution_count": 3,
      "outputs": []
    },
    {
      "cell_type": "code",
      "source": [
        "# Step 1: Read the image\n",
        "img = cv2.imread('image1.jpg')\n",
        "if img is None:\n",
        "    raise FileNotFoundError(\"Image not found. Please check the path.\")\n",
        "\n",
        "# Step 2: Convert image to grayscale\n",
        "gray = cv2.cvtColor(img, cv2.COLOR_BGR2GRAY)\n",
        "\n",
        "# Step 3: Apply bilateral filter to reduce noise while keeping edges sharp\n",
        "bfilter = cv2.bilateralFilter(gray, 11, 17, 17)\n",
        "\n",
        "# Step 4: Perform Canny edge detection\n",
        "edged = cv2.Canny(bfilter, 30, 200)"
      ],
      "metadata": {
        "id": "TJNqMjpR0Qbo"
      },
      "execution_count": 36,
      "outputs": []
    },
    {
      "cell_type": "code",
      "source": [
        "# Visualize edges\n",
        "plt.figure(figsize=(10,6))\n",
        "plt.subplot(1,2,1)\n",
        "plt.title('Grayscale Image')\n",
        "plt.imshow(cv2.cvtColor(gray, cv2.COLOR_BGR2RGB))\n",
        "plt.axis('off')\n",
        "\n",
        "plt.subplot(1,2,2)\n",
        "plt.title('Edge Image')\n",
        "plt.imshow(edged, cmap='gray')\n",
        "plt.axis('off')\n",
        "plt.show()"
      ],
      "metadata": {
        "id": "iZx3zMud0T6L"
      },
      "execution_count": null,
      "outputs": []
    },
    {
      "cell_type": "code",
      "source": [
        "# Step 5: Find contours based on edges\n",
        "keypoints = cv2.findContours(edged.copy(), cv2.RETR_TREE, cv2.CHAIN_APPROX_SIMPLE)\n",
        "contours = imutils.grab_contours(keypoints)\n",
        "\n",
        "# Step 6: Sort contours based on area, keep top 10 for plate detection\n",
        "contours = sorted(contours, key=cv2.contourArea, reverse=True)[:10]\n",
        "\n",
        "location = None\n",
        "\n",
        "# Step 7: Loop over contours to find a quadrilateral (possible plate)\n",
        "for contour in contours:\n",
        "    peri = cv2.arcLength(contour, True)  # Perimeter of contour\n",
        "    approx = cv2.approxPolyDP(contour, 0.018 * peri, True)  # Approximate polygon\n",
        "    if len(approx) == 4:\n",
        "        location = approx\n",
        "        break"
      ],
      "metadata": {
        "id": "6z_3u6mD0WTt"
      },
      "execution_count": 38,
      "outputs": []
    },
    {
      "cell_type": "code",
      "source": [
        "# Step 8: If plate contour found, create mask and extract plate region\n",
        "if location is None:\n",
        "    print(\"License plate contour not detected.\")\n",
        "else:\n",
        "    mask = np.zeros(gray.shape, np.uint8)\n",
        "    cv2.drawContours(mask, [location], 0, 255, -1)\n",
        "\n",
        "    # Bitwise AND mask and original image to get plate area\n",
        "    new_image = cv2.bitwise_and(img, img, mask=mask)\n",
        "\n",
        "    # Crop the bounding rectangle from the grayscale image for OCR\n",
        "    (x, y) = np.where(mask == 255)\n",
        "    (x1, y1) = (np.min(x), np.min(y))\n",
        "    (x2, y2) = (np.max(x), np.max(y))\n",
        "    cropped_image = gray[x1:x2+1, y1:y2+1]\n",
        "\n",
        "    # Show detected plate region\n",
        "    plt.figure(figsize=(6,4))\n",
        "    plt.title(\"Detected License Plate Region\")\n",
        "    plt.imshow(cropped_image, cmap='gray')\n",
        "    plt.axis('off')\n",
        "    plt.show()\n"
      ],
      "metadata": {
        "id": "eEH_Y3tq0blw"
      },
      "execution_count": null,
      "outputs": []
    },
    {
      "cell_type": "code",
      "source": [
        "    # Step 9: Use EasyOCR to read text from the cropped plate\n",
        "    reader = easyocr.Reader(['en'])\n",
        "    result = reader.readtext(cropped_image)\n",
        "\n",
        "    if len(result) == 0:\n",
        "        print(\"No text detected on plate.\")\n",
        "    else:\n",
        "        # Extract text with highest confidence (usually first result)\n",
        "        text = result[0][-2]\n",
        "        print(\"Detected License Plate Text:\", text)\n",
        "\n",
        "   # Step 10: Annotate the original image with detected text and rectangle\n",
        "        font = cv2.FONT_HERSHEY_SIMPLEX\n",
        "        res = cv2.putText(img, text=text, org=(location[0][0][0], location[1][0][1] + 60),\n",
        "                          fontFace=font, fontScale=1, color=(0, 255, 0), thickness=2, lineType=cv2.LINE_AA)\n",
        "        res = cv2.rectangle(res, tuple(location[0][0]), tuple(location[2][0]), (0, 255, 0), 3)"
      ],
      "metadata": {
        "colab": {
          "base_uri": "https://localhost:8080/"
        },
        "id": "58fEDEAG0fLo",
        "outputId": "7c64ffa3-98fd-4317-cc49-c4ab5f63c658"
      },
      "execution_count": 40,
      "outputs": [
        {
          "output_type": "stream",
          "name": "stderr",
          "text": [
            "WARNING:easyocr.easyocr:Neither CUDA nor MPS are available - defaulting to CPU. Note: This module is much faster with a GPU.\n"
          ]
        },
        {
          "output_type": "stream",
          "name": "stdout",
          "text": [
            "Detected License Plate Text: HR.26 BR.9044\n"
          ]
        }
      ]
    },
    {
      "cell_type": "code",
      "source": [
        "        # Show final annotated image\n",
        "        plt.figure(figsize=(10,6))\n",
        "        plt.title(\"License Plate Detection Result\")\n",
        "        plt.imshow(cv2.cvtColor(res, cv2.COLOR_BGR2RGB))\n",
        "        plt.axis('off')\n",
        "        plt.show()\n"
      ],
      "metadata": {
        "id": "C7QFzQARxHOs"
      },
      "execution_count": null,
      "outputs": []
    },
    {
      "cell_type": "code",
      "source": [
        "reader = easyocr.Reader(['en'])\n",
        "\n",
        "cap = cv2.VideoCapture('car1.mp4')  # Or 0 for webcam if Colab supports\n",
        "\n",
        "if not cap.isOpened():\n",
        "    print(\"Error: Could not open video.\")\n",
        "    exit()\n",
        "\n",
        "while True:\n",
        "    ret, frame = cap.read()\n",
        "    if not ret:\n",
        "        break\n",
        "\n",
        "    gray = cv2.cvtColor(frame, cv2.COLOR_BGR2GRAY)\n",
        "    bfilter = cv2.bilateralFilter(gray, 11, 17, 17)\n",
        "    edged = cv2.Canny(bfilter, 30, 200)\n",
        "\n",
        "    keypoints = cv2.findContours(edged.copy(), cv2.RETR_TREE, cv2.CHAIN_APPROX_SIMPLE)\n",
        "    contours = imutils.grab_contours(keypoints)\n",
        "    contours = sorted(contours, key=cv2.contourArea, reverse=True)[:10]\n",
        "\n",
        "    location = None\n",
        "\n",
        "    for contour in contours:\n",
        "        peri = cv2.arcLength(contour, True)\n",
        "        approx = cv2.approxPolyDP(contour, 0.018 * peri, True)\n",
        "        if len(approx) == 4:\n",
        "            location = approx\n",
        "            break\n",
        "\n",
        "    if location is not None:\n",
        "        mask = np.zeros(gray.shape, np.uint8)\n",
        "        cv2.drawContours(mask, [location], 0, 255, -1)\n",
        "        (x, y) = np.where(mask == 255)\n",
        "        (x1, y1) = (np.min(x), np.min(y))\n",
        "        (x2, y2) = (np.max(x), np.max(y))\n",
        "        cropped_plate = gray[x1:x2+1, y1:y2+1]\n",
        "\n",
        "        result = reader.readtext(cropped_plate)\n",
        "        if len(result) > 0:\n",
        "            text = result[0][-2]\n",
        "            cv2.putText(frame, text, (location[0][0][0], location[1][0][1] + 60),\n",
        "                        cv2.FONT_HERSHEY_SIMPLEX, 1, (0, 255, 0), 2, cv2.LINE_AA)\n",
        "            cv2.drawContours(frame, [location], -1, (0, 255, 0), 3)\n",
        "\n",
        "    # Replace cv2.imshow with cv2_imshow for Colab\n",
        "    cv2_imshow(frame)\n",
        "\n",
        "    # Use waitKey delay; here, just a short delay\n",
        "    if cv2.waitKey(1) & 0xFF == ord('q'):\n",
        "        break\n",
        "\n",
        "cap.release()\n",
        "cv2.destroyAllWindows()\n"
      ],
      "metadata": {
        "collapsed": true,
        "id": "Wmw1i-LxyUdI"
      },
      "execution_count": null,
      "outputs": []
    },
    {
      "cell_type": "code",
      "source": [
        "\n",
        "# Get video properties\n",
        "frame_width = int(cap.get(cv2.CAP_PROP_FRAME_WIDTH))\n",
        "frame_height = int(cap.get(cv2.CAP_PROP_FRAME_HEIGHT))\n",
        "fps = cap.get(cv2.CAP_PROP_FPS)\n",
        "\n",
        "# Define codec and create VideoWriter object to save output\n",
        "output_video_path = 'output_license_plate.mp4'\n",
        "fourcc = cv2.VideoWriter_fourcc(*'mp4v')  # For .mp4 output\n",
        "out = cv2.VideoWriter(output_video_path, fourcc, fps, (frame_width, frame_height))\n",
        "\n",
        "frame_count = 0\n",
        "while True:\n",
        "    ret, frame = cap.read()\n",
        "    if not ret:\n",
        "        break\n",
        "\n",
        "    frame_count += 1\n",
        "\n",
        "    gray = cv2.cvtColor(frame, cv2.COLOR_BGR2GRAY)\n",
        "    bfilter = cv2.bilateralFilter(gray, 11, 17, 17)\n",
        "    edged = cv2.Canny(bfilter, 30, 200)\n",
        "\n",
        "    keypoints = cv2.findContours(edged.copy(), cv2.RETR_TREE, cv2.CHAIN_APPROX_SIMPLE)\n",
        "    contours = imutils.grab_contours(keypoints)\n",
        "    contours = sorted(contours, key=cv2.contourArea, reverse=True)[:10]\n",
        "\n",
        "    location = None\n",
        "\n",
        "    for contour in contours:\n",
        "        peri = cv2.arcLength(contour, True)\n",
        "        approx = cv2.approxPolyDP(contour, 0.018 * peri, True)\n",
        "        if len(approx) == 4:\n",
        "            location = approx\n",
        "            break\n",
        "\n",
        "    if location is not None:\n",
        "        mask = np.zeros(gray.shape, np.uint8)\n",
        "        cv2.drawContours(mask, [location], 0, 255, -1)\n",
        "        (x, y) = np.where(mask == 255)\n",
        "        (x1, y1) = (np.min(x), np.min(y))\n",
        "        (x2, y2) = (np.max(x), np.max(y))\n",
        "        cropped_plate = gray[x1:x2+1, y1:y2+1]\n",
        "\n",
        "        result = reader.readtext(cropped_plate)\n",
        "        if len(result) > 0:\n",
        "            text = result[0][-2]\n",
        "            cv2.putText(frame, text, (location[0][0][0], location[1][0][1] + 60),\n",
        "                        cv2.FONT_HERSHEY_SIMPLEX, 1, (0, 255, 0), 2, cv2.LINE_AA)\n",
        "            cv2.drawContours(frame, [location], -1, (0, 255, 0), 3)\n",
        "\n",
        "    # Write the annotated frame to output video\n",
        "    out.write(frame)\n",
        "\n",
        "    # Optional: print progress every 30 frames\n",
        "    if frame_count % 30 == 0:\n",
        "        print(f\"Processed {frame_count} frames\")\n",
        "\n",
        "cap.release()\n",
        "out.release()\n",
        "\n",
        "print(f\"Video saved as {output_video_path}\")\n",
        "\n",
        "# Download the video file to your local machine\n",
        "files.download(output_video_path)\n"
      ],
      "metadata": {
        "colab": {
          "base_uri": "https://localhost:8080/",
          "height": 35
        },
        "id": "jl68BIbgy4OD",
        "outputId": "74f03c29-fb26-4549-b7da-8850a8314e3d"
      },
      "execution_count": 16,
      "outputs": [
        {
          "output_type": "stream",
          "name": "stdout",
          "text": [
            "Video saved as output_license_plate.mp4\n"
          ]
        },
        {
          "output_type": "display_data",
          "data": {
            "text/plain": [
              "<IPython.core.display.Javascript object>"
            ],
            "application/javascript": [
              "\n",
              "    async function download(id, filename, size) {\n",
              "      if (!google.colab.kernel.accessAllowed) {\n",
              "        return;\n",
              "      }\n",
              "      const div = document.createElement('div');\n",
              "      const label = document.createElement('label');\n",
              "      label.textContent = `Downloading \"${filename}\": `;\n",
              "      div.appendChild(label);\n",
              "      const progress = document.createElement('progress');\n",
              "      progress.max = size;\n",
              "      div.appendChild(progress);\n",
              "      document.body.appendChild(div);\n",
              "\n",
              "      const buffers = [];\n",
              "      let downloaded = 0;\n",
              "\n",
              "      const channel = await google.colab.kernel.comms.open(id);\n",
              "      // Send a message to notify the kernel that we're ready.\n",
              "      channel.send({})\n",
              "\n",
              "      for await (const message of channel.messages) {\n",
              "        // Send a message to notify the kernel that we're ready.\n",
              "        channel.send({})\n",
              "        if (message.buffers) {\n",
              "          for (const buffer of message.buffers) {\n",
              "            buffers.push(buffer);\n",
              "            downloaded += buffer.byteLength;\n",
              "            progress.value = downloaded;\n",
              "          }\n",
              "        }\n",
              "      }\n",
              "      const blob = new Blob(buffers, {type: 'application/binary'});\n",
              "      const a = document.createElement('a');\n",
              "      a.href = window.URL.createObjectURL(blob);\n",
              "      a.download = filename;\n",
              "      div.appendChild(a);\n",
              "      a.click();\n",
              "      div.remove();\n",
              "    }\n",
              "  "
            ]
          },
          "metadata": {}
        },
        {
          "output_type": "display_data",
          "data": {
            "text/plain": [
              "<IPython.core.display.Javascript object>"
            ],
            "application/javascript": [
              "download(\"download_351ccc6a-57a5-450e-b95e-c0136eaf265f\", \"output_license_plate.mp4\", 6815833)"
            ]
          },
          "metadata": {}
        }
      ]
    }
  ]
}